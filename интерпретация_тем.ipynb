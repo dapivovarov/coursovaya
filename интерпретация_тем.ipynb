{
 "cells": [
  {
   "cell_type": "code",
   "execution_count": 34,
   "id": "32e47543-a1f9-4c54-a6e2-2d1ee54f861b",
   "metadata": {},
   "outputs": [],
   "source": [
    "import pandas as pd"
   ]
  },
  {
   "cell_type": "markdown",
   "id": "c778a2d2-5137-4559-b10d-d70d83aeca24",
   "metadata": {},
   "source": [
    "#### H1: Сексистско-расистские стереотипы, угнетающие чернокожих женщин, воспроизводящиеся современными медиа, обладающие “правой” (“Right”) и “с наклоном вправо” (“Lean Right”) идеологической принадлежностью будут более радикальными и жестокими, чем те, что воспроизводятся медиа, обладающие “левой” (“Left”) и “с наклоном влево” (“Lean Left”) идеологической принадлежностью.\n"
   ]
  },
  {
   "cell_type": "code",
   "execution_count": 35,
   "id": "c745c375-4567-4998-95f4-c07f4875bebb",
   "metadata": {},
   "outputs": [],
   "source": [
    "data_whole_R = pd.read_excel(\"topics_whole_R_regularBERT.xlsx\")"
   ]
  },
  {
   "cell_type": "code",
   "execution_count": 36,
   "id": "c77f557f-6534-4362-bb71-5e18713ee75e",
   "metadata": {},
   "outputs": [],
   "source": [
    "data_whole_L = pd.read_excel(\"topics_whole_L_regularBERT.xlsx\")"
   ]
  },
  {
   "cell_type": "markdown",
   "id": "83700f0e-63dd-42f0-b944-6564a07f5b8f",
   "metadata": {},
   "source": [
    "#### Тема: аборты и репродуктивные права"
   ]
  },
  {
   "cell_type": "code",
   "execution_count": 37,
   "id": "95b65125-ce95-4288-b9ce-e1e6e6d9a602",
   "metadata": {},
   "outputs": [
    {
     "data": {
      "text/plain": [
       "\"['people ground doesnt normally hear people talking abortion like even though issue abortion catapulted recent weeks spotlight democrat andrepublican platforms harris repeats debunked claim trump wants ban abortion first campaign rally since biden quit race arizona residents rally abortion rights phoenix state supreme court ruled abortion ban law', 'believes abortion exceptions cases rape incest life mother applauded roe v wades overturn returning decision states voters vice president kamala harris claimed trump would sign federal abortion ban law trump repeatedly said wont veep would answer whether shed back restrictions abortion access even', 'state days ahead election day expected speak states abortion policies supreme court overturned roe v wade abortion hallmark harris campaign including harris saying supports eliminating filibuster effort pass law restoring abortion access nationwide harris stumbles border pressed illegal immigration border wall stupid']\""
      ]
     },
     "execution_count": 37,
     "metadata": {},
     "output_type": "execute_result"
    }
   ],
   "source": [
    "data_whole_R[\"Representative_Docs\"].iloc[4]"
   ]
  },
  {
   "cell_type": "markdown",
   "id": "cb7a5a5b-ee7f-40da-a369-aca464a84fa0",
   "metadata": {},
   "source": [
    "В про-республиканских СМИ в одном из высказываний в контексте Камалы Харрис упоминается фраза \"repeats debunked claim\" (пер. \"повторяет опровергнутые утверждения\"), указывающая на ошибочность ее мнения. Также, в отношении нее используются слова \"stumbled\" (пер. \"ошибаться\"), что также указывает на несостоятельность ее позиции по абортам. В целом, мы можем указать на критический тон, но прямых сексистско-расистских стереотипов, связанных с интерсекциональным статусом Харрис, в этой теме не прослеживается."
   ]
  },
  {
   "cell_type": "code",
   "execution_count": 38,
   "id": "f1c7a369-20bd-410e-bb22-899c2d739a24",
   "metadata": {},
   "outputs": [
    {
     "data": {
      "text/plain": [
       "\"['beard abbie cheeseman justine mcdaniel kamala harris supports legal access abortion strongly rejected efforts limit abortion access wants congress pass national law codifying right abortion harris said wants restore roe v wade protects abortion time fetal viability weeks harris leading voice reproductive rights vice president', 'access safe abortion weâre collecting vice president kamala harrisâs former president donald trumpâsstances important issuesincluding abortion economic policy immigration qdo support federal ban abortion aharris strongly rejected efforts restrict abortion access including national ban blaming trump supreme courtâs reversal roe v wade says created âhorrific heartbreaking realityâ urging congress pass', 'kamala harris leading voice reproductive rights wants congress pass national law codifying access safe abortion weâre collecting vice president kamala harrisâs former president donald trumpâsstances important issuesincluding abortion economic policy immigration qdo support federal ban abortion aharris strongly rejected efforts restrict abortion access including']\""
      ]
     },
     "execution_count": 38,
     "metadata": {},
     "output_type": "execute_result"
    }
   ],
   "source": [
    "data_whole_L[\"Representative_Docs\"].iloc[2]"
   ]
  },
  {
   "cell_type": "markdown",
   "id": "7b70c1cb-44af-4087-bf7b-a162ade3a03d",
   "metadata": {},
   "source": [
    "Про-демократические СМИ указывают на важную роль Камалы Харрис в соблюдении репродуктивных прав, среди фраз есть ее упоминание в качестве \"ведущего голоса\" (пер. \"leading voice\") в этом вопросе. Тон высказываний явно позитивный, подчеркивается устойчивое противодействие ограничениям на аборты (\"strongly rejected efforts limit abortion\") и ее поддержка кодификации права на аборты (\"wants congress pass national law codifying access safe abortion\")."
   ]
  },
  {
   "cell_type": "markdown",
   "id": "eaef64af-f604-4e4c-b3e7-8ef945f7c1d6",
   "metadata": {},
   "source": [
    "Вывод по H1: Предоставленные коды тем не содержат достаточно доказательств для подтверждения гипотезы H1. \n",
    "Высказывания про чернокожих женщин в про-республиканских СМИ действительно носят более негативный характер, но они не носят явного сексистко-расистского характера, а исходят из политической конкуренции в ходе выборов, - обращение про-республиканских СМИ к опровержению фактов, которые высказывала Камала Харрис, может быть объяснено актуализацией эпистемического противостояния, наблюдавшегося в ходе президентской кампании в США 2024 г."
   ]
  },
  {
   "cell_type": "markdown",
   "id": "0d5473b3-9329-4f89-a6ce-c61fffeb129b",
   "metadata": {},
   "source": [
    "#### Тема: поддержка кандидатов среди чернокожих избирателей"
   ]
  },
  {
   "cell_type": "code",
   "execution_count": 14,
   "id": "19dfd875-9197-42c6-b77a-ee3eef0a4bad",
   "metadata": {},
   "outputs": [
    {
     "data": {
      "text/plain": [
       "\"['also defining feature improved numbers among hispanics points black voters points young voters points fox news projects donald trump defeats kamala harris become th president united states rightward shifts particularly notable among hispanic men points black men points men points seniors backed trump', 'young men backed former president points women went harris points story similar among black voters black women nearly universal support harris black men backed trump overall black voters picked harris substantially bidens harris political moderates group voted biden', 'points going biden points four years ago shift entirely powered young men backed former president points women went harris points story similar among black voters black women nearly universal support harris black men backed trump overall']\""
      ]
     },
     "execution_count": 14,
     "metadata": {},
     "output_type": "execute_result"
    }
   ],
   "source": [
    "data_whole_R[\"Representative_Docs\"].iloc[5]"
   ]
  },
  {
   "cell_type": "markdown",
   "id": "9139c931-221a-4756-93f3-3be95c9e12bd",
   "metadata": {},
   "source": [
    "В высказываниях про-республиканских СМИ содержится описание распределения поддержки кандидатов среди чернокожего населения. Упоминается, что чернокожые женщины почти единогласно поддерживают Харрис (\"black women nearly universal support harris\"), однако среди части чернокожего мужского населения ощущается поддержка Дональда Трампа (\"black men backed trump\"). Тон нейтральный, однако подчеркивается контраст в предпочтениях между чернокожими мужчинами и чернокожими женщинами, - при этом доля мужчин солидаризируется с новостными источниками в поддержке кандидата, тогда как женщинам приписывается исключительно оппозиционный характер предпочтений. Хотя здесь и нет явных расово-гендерных стереотипов, это способствует формированию \"другого\", воплощенного в группе чернокожих женщин, - данное наблюдение позволяет сформулировать аргумент для интерсекционального подхода. Чернокожие женщины репрезентируются как оппозиционная группа."
   ]
  },
  {
   "cell_type": "code",
   "execution_count": 39,
   "id": "8b4c0966-0f65-4cd8-bae8-ee2193ed889c",
   "metadata": {},
   "outputs": [
    {
     "data": {
      "text/plain": [
       "\"['largest amount democratic support demographic butsome polls suggestthat support eroding recent new york timessiena college national poll reported likely black male voters support harris black men turned biden versus likely black women voters twenty per cent black male voters said would vote trump', 'pennsylvania event black voters urged men particular support vicepresident comments directed specifically black men swing state event one harriss campaign offices obama questioned unwillingness vote september naacp poll showed one quarter black men say vote fordonald trump yet', 'financial support among black georgians harris led trump according postâs analysis among black presidential donors matched voter registration records percent given harris biden since november less percent gave trump harrisâs advantage among black donors especially strong among black women twothirds black donors female']\""
      ]
     },
     "execution_count": 39,
     "metadata": {},
     "output_type": "execute_result"
    }
   ],
   "source": [
    "data_whole_L[\"Representative_Docs\"].iloc[13]"
   ]
  },
  {
   "cell_type": "markdown",
   "id": "06947bd7-cd90-479d-b199-901c79f6db23",
   "metadata": {},
   "source": [
    "В про-демократических СМИ также указывается на разное распределение поддержки кандидатов среди избирателей разного пола: есть указание на поддержку Трампа чернокожими мужчинами (\"twenty per cent black male voters said would vote trump\"). Чернокожие женщины указаны как активные участники кампании в качестве доноров (\"donors especially strong among black women two thirds black donors female\"). Это усиливает позитивный образ чернокожих женщин как основного электората Харрис в ходе президентской кампании."
   ]
  },
  {
   "cell_type": "markdown",
   "id": "49d883fa-a1d8-40f9-a9eb-0302a3ad865c",
   "metadata": {},
   "source": [
    "Вывод по H1: Предоставленные коды тем не содержат достаточно доказательств для подтверждения H1. Сексистско-расистские стереотипы в выделенных темах отсутствуют. Однако, мы можем отметить, что чернокожие женщины выделяются как опозиционная кандидату от республиканской партии группа, так как они характеризуются активной поддержкой конкурента, - в условиях контекста Президентской кампании в США 2024 г, характеризовавшихся поляризацией кандидатов, это могло сформировать негативный образ чернокожих женщин в медиадискурсе."
   ]
  },
  {
   "cell_type": "markdown",
   "id": "76d2f75e-be3d-4e69-b0d0-99c91299062d",
   "metadata": {},
   "source": [
    "#### Тема: заявления Барака Обамы"
   ]
  },
  {
   "cell_type": "code",
   "execution_count": 33,
   "id": "7ead8acf-0644-4a3b-9097-84d629d43601",
   "metadata": {},
   "outputs": [
    {
     "data": {
      "text/plain": [
       "\"['georgia executive vernon jones longtime democrat joined gop reacted x saying obama dispatched white liberals blackmansplain fellow africanamericans vote harris thanks bo blacks enough kamala harris jones said part conservative commentator benny arthur johnson called comments sickening obama descended endstage race hatred politics said', 'gop reacted x saying obama dispatched white liberals blackmansplain fellow africanamericans vote harris thanks bo blacks enough kamala harris jones said part conservative commentator benny arthur johnson called comments sickening obama descended endstage race hatred politics said part president biden also made waves similarly admonished', 'reacted x saying obama dispatched white liberals blackmansplain fellow africanamericans vote harris thanks bo blacks enough kamala harris jones said part conservative commentator benny arthur johnson called comments sickening obama descended endstage race hatred politics said part president biden also made waves similarly admonished black']\""
      ]
     },
     "execution_count": 33,
     "metadata": {},
     "output_type": "execute_result"
    }
   ],
   "source": [
    "data_whole_R[\"Representative_Docs\"].iloc[278]"
   ]
  },
  {
   "cell_type": "markdown",
   "id": "898a06f8-c409-43ab-a441-5c10a9223c5b",
   "metadata": {},
   "source": [
    "В рамках этой темы высказывания сосредоточены на оценке заявлений Барака Обамы, - консервативные комментаторы указывают на разжигание Обамой расовой ненависти (\"descended endstage race hatered\"), а также на то, что он указывает чернокожим женщинам-избирателям на кандидата, за которого нужно голосовать (\"blackmansplain fellow african americans vote harris\"). Здесь, также, указывается на усталость чернокожего электората от Камалы Харрис, - она упоминается здесь в саркастическом тоне, который намекает на ее некомпетентность (\"blacks enough Kamala Harris\")."
   ]
  },
  {
   "cell_type": "markdown",
   "id": "ba667515-87c5-47b1-9829-521167788b35",
   "metadata": {},
   "source": [
    "Вывод по H1: Предоставленные коды тем не содержат достаточно доказательств для подтверждения H1. Тема содержит саркастическое упоминание Камалы Харрис в качестве кандидата на выборах, которое может быть проинтерпретировано как уничижительное. Однако это упоминание не является сексистским или расистским. Остальная часть сосредоточена на критике Обамы."
   ]
  },
  {
   "cell_type": "markdown",
   "id": "3aa499cf-01b9-488f-83e1-254803fe2bff",
   "metadata": {},
   "source": [
    "#### Тема: проституция"
   ]
  },
  {
   "cell_type": "code",
   "execution_count": 40,
   "id": "dd771322-b220-406b-b493-c4c447b906f4",
   "metadata": {},
   "outputs": [
    {
     "data": {
      "text/plain": [
       "\"['issue prostitution particular deal prostitution children know san francisco real epidemic said time however harris came proposition k ballot measure would decriminalized prostitution san francisco forbidding police using public resources investigate think completely ridiculous case theres', 'long one harmed veep made similar remarks back first campaign san francisco da consensual sex consenting adults subject prosecution harris said according archived copy asianweek nowdefunct publication serving citys east asian community reviewed post harris added time thought prostitution entwined', 'ballot measure would decriminalized prostitution san francisco forbidding police using public resources investigate think completely ridiculous case theres ambiguity position harris said measure according new york times would put welcome mat pimps prostitutes come san francisco practice habit protecting']\""
      ]
     },
     "execution_count": 40,
     "metadata": {},
     "output_type": "execute_result"
    }
   ],
   "source": [
    "data_whole_R[\"Representative_Docs\"].iloc[252]"
   ]
  },
  {
   "cell_type": "markdown",
   "id": "d14448ea-ff86-47bb-a387-a6e305d4d471",
   "metadata": {},
   "source": [
    "Данная тема сосредоточена на позиции Камалы Харрис по декриминализации проституции в Сан-Франциско. Используется негативно окрашенные фразы: \"would put welcome mat pimps prostitutes\" (пер. \"положила бы приветственный коврик сутенера проституткам\") и \"think completely ridiculous\" (пер. \"мыслит абсолютно нелепо\"). Они указывают на некомпетентность Харрис и неосознаваемость ею последствий собственной политики. Тон высказываний является негативным, используются метафоры, усиливающие его."
   ]
  },
  {
   "cell_type": "markdown",
   "id": "1afb7f57-4607-494a-b0ff-a3f675a4ceec",
   "metadata": {},
   "source": [
    "Вывод по H1: Предоставленные коды тем не содержат достаточно доказательств для подтверждения H1. Фразы, описывающие Харрис, являются негативными и уничижительными, они могут косвенно способствовать стереотипизации, указывая на ее абсолютную некомпетентность в теме проституции, что может усилить негативное восприятие ее как чернокожей женщины-политика. Однако критика сосредоточена на ее политической позиции, а не на расе или гендере напрямую."
   ]
  },
  {
   "cell_type": "markdown",
   "id": "fb66123a-c9ff-4c75-9b3a-a513df24103a",
   "metadata": {},
   "source": [
    "#### Тема: сексизм и расизм в контексте выборов"
   ]
  },
  {
   "cell_type": "code",
   "execution_count": 41,
   "id": "c300354c-db7a-488d-af0c-15b7aa65cc62",
   "metadata": {},
   "outputs": [
    {
     "data": {
      "text/plain": [
       "\"['months aoc claimed harris likely lost votes deeply ingrained sexism america never elected female president transcends ideology party affiliation kamala harris tom harris may different result today said grudging compliment former waitress even said trump got peoples attention vowing cut taxes tips social security', 'campaign months aoc claimed harris likely lost votes deeply ingrained sexism america never elected female president transcends ideology party affiliation kamala harris tom harris may different result today said grudging compliment former waitress even said trump got peoples attention vowing cut taxes tips social', 'press blaming racism sexism wound writing nearsweep battleground states fox news projects donald trump defeats kamala harris become th president united states harris best could shortened campaign overwhelmingly favorable celebrityfueled media coverage compared constant attacks opponent however incumbent change election many journalists']\""
      ]
     },
     "execution_count": 41,
     "metadata": {},
     "output_type": "execute_result"
    }
   ],
   "source": [
    "data_whole_R[\"Representative_Docs\"].iloc[124]"
   ]
  },
  {
   "cell_type": "markdown",
   "id": "2ad65e8b-d0a0-4902-bbea-fa6141856765",
   "metadata": {},
   "source": [
    "Тема указывает на потенциальную потерю голосов Камалой Харрис из-за укоренившегося сексизма в США. В статье применяется фраза \"grudging compliment former waitress\" (пер. \"неохотный комплимент бывшей официантке\"), - здесь подчеркивается ее прошлая работа в низкостатусной профессии. Это напрямую воспроизводит стереотип Mammy, так как эта фраза подразумевает некомпетентность в политике, ограничивая сферу деятельности Камалы Харрис на ведении хозяйства."
   ]
  },
  {
   "cell_type": "markdown",
   "id": "79cbe985-4db7-4872-b487-eeb777b74289",
   "metadata": {},
   "source": [
    "Вывод по H1: Предоставленные коды тем содержат достаточное доказательство для частичного подтверждения H1. Высказывание, описывающее Харрис как \"бывшую официантку\" указывает на воспроизводство стереотипа Mammy, однако это разовый случай его воспроизводства. Мы лишь можем указать на их нахождение в про-республиканском дискурсе."
   ]
  },
  {
   "cell_type": "markdown",
   "id": "840d19d1-24ec-4f3e-bec7-bcb96340ebf9",
   "metadata": {},
   "source": [
    "#### H2: В течение периода с 21 июля 2024 г. по 5 ноября 2024 г. воспроизводство сексистско-расистских стереотипов, угнетающих чернокожих женщин, в современных медиа, обладающих “правой” (“Right”) и “с наклоном вправо” (“Lean Right”) идеологической принадлежностью, становится более интенсивным, а также приобретает более радикальную и жестокую форму."
   ]
  },
  {
   "cell_type": "code",
   "execution_count": 42,
   "id": "d2aa3ed7-b56a-4a60-8bf7-607d322fa035",
   "metadata": {},
   "outputs": [],
   "source": [
    "data_b = pd.read_excel(\"topics_before_R_regularBERT.xlsx\")"
   ]
  },
  {
   "cell_type": "code",
   "execution_count": 43,
   "id": "08c71be0-4105-4590-bf7f-aeb3426a01da",
   "metadata": {},
   "outputs": [],
   "source": [
    "data_a = pd.read_excel(\"topics_after_R_regularBERT.xlsx\")"
   ]
  },
  {
   "cell_type": "markdown",
   "id": "54e7fca6-25e4-446b-a223-bf3e2476494e",
   "metadata": {},
   "source": [
    "Коды тем перед вступлением Камалы Харрис в предвыборную гонку."
   ]
  },
  {
   "cell_type": "code",
   "execution_count": 52,
   "id": "582b126b-5103-4081-9d0d-466cdc2e1d8b",
   "metadata": {},
   "outputs": [
    {
     "data": {
      "text/plain": [
       "\"['moving toward progress requires speak truth vice president told panel view kamala harris confident ahead potential trump rematch winning matter gop nominates vice president kamala harris arrives annual king day dome rally state house columbia south carolinasean rayford washington post harriss comments response tocomments made haley former us', 'toward progress requires speak truth vice president told panel view kamala harris confident ahead potential trump rematch winning matter gop nominates vice president kamala harris arrives annual king day dome rally state house columbia south carolinasean rayford washington post harriss comments response tocomments made haley former us ambassador', 'rematch winning matter gop nominates vice president kamala harris arrives annual king day dome rally state house columbia south carolinasean rayford washington post harriss comments response tocomments made haley former us ambassador united nations racist country brian weve never racist country haley indian descent said']\""
      ]
     },
     "execution_count": 52,
     "metadata": {},
     "output_type": "execute_result"
    }
   ],
   "source": [
    "data_b[\"Representative_Docs\"].iloc[7]"
   ]
  },
  {
   "cell_type": "code",
   "execution_count": 53,
   "id": "5085b852-7ae0-47e5-b498-f04e184abb78",
   "metadata": {},
   "outputs": [
    {
     "data": {
      "text/plain": [
       "\"['gained support black voters bidens expense trump aims turn blue states red november biden campaign memo spotlighted black unemployment rate skyrocketed trump bidenharris administration helped create million jobs black workers resulting record low black unemployment black business ownership also growing fastest pace years donalds interview', 'voters democratic strategists liberal political pundits also warned black enthusiasm bidens reelection waning thead titled competeshows patrick brown black farmer north carolina praising biden vice president kamala harris said administrations investment black farming communities democrats bleeding nonwhite working class vote book says look mirror president biden speaks event national institutes', 'black voters democratic strategists liberal political pundits also warned black enthusiasm bidens reelection waning thead titled competeshows patrick brown black farmer north carolina praising biden vice president kamala harris said administrations investment black farming communities democrats bleeding nonwhite working class vote book says look mirror president biden speaks event national']\""
      ]
     },
     "execution_count": 53,
     "metadata": {},
     "output_type": "execute_result"
    }
   ],
   "source": [
    "data_b[\"Representative_Docs\"].iloc[6]"
   ]
  },
  {
   "cell_type": "markdown",
   "id": "b4c64111-207a-4ad2-a461-6cdf8a8db67c",
   "metadata": {},
   "source": [
    "Первая тема: упоминание уверенности вице-президента Камалы Харрис в противостоянии с Трампом (\"confident\", \"Kamala Harris confident ahead potential trump rematch\"), тон является позитивным.\n",
    "Вторая тема: описание достижения администрации Байдена и Харрис, включая снижение безработицы чернокожих (\"bidenharris administration helped create million jobs black workers resulting record low black unemployment\") и рост бизнеса чернокожих (\"black business ownership also growing fastest pace years\").\n",
    "\n",
    "Коды тем представляют собой анализ политики администрации Байдена и Харрис, не содержат расово-гендерных стереотипов, тон сообщений является нейтральным или позитивным."
   ]
  },
  {
   "cell_type": "markdown",
   "id": "841ab225-6518-49fe-b305-f86e65e563a3",
   "metadata": {},
   "source": [
    "Коды тем после вступления Камалы Харрис в предвыборную гонку."
   ]
  },
  {
   "cell_type": "markdown",
   "id": "5240b28f-bdeb-4734-bd45-4ce7469d6ff8",
   "metadata": {},
   "source": [
    "1."
   ]
  },
  {
   "cell_type": "code",
   "execution_count": 54,
   "id": "bf48e3e7-27dd-46fa-a315-52f94cd5090d",
   "metadata": {},
   "outputs": [
    {
     "data": {
      "text/plain": [
       "\"['also defining feature improved numbers among hispanics points black voters points young voters points fox news projects donald trump defeats kamala harris become th president united states rightward shifts particularly notable among hispanic men points black men points men points seniors backed trump', 'young men backed former president points women went harris points story similar among black voters black women nearly universal support harris black men backed trump overall black voters picked harris substantially bidens harris political moderates group voted biden', 'points going biden points four years ago shift entirely powered young men backed former president points women went harris points story similar among black voters black women nearly universal support harris black men backed trump overall']\""
      ]
     },
     "execution_count": 54,
     "metadata": {},
     "output_type": "execute_result"
    }
   ],
   "source": [
    "data_a[\"Representative_Docs\"].iloc[5]"
   ]
  },
  {
   "cell_type": "markdown",
   "id": "af252e1e-d874-444e-94dc-e504442c7649",
   "metadata": {},
   "source": [
    "2."
   ]
  },
  {
   "cell_type": "code",
   "execution_count": 55,
   "id": "d07a69ae-3c4b-4bf0-a82e-c1533c622990",
   "metadata": {},
   "outputs": [
    {
     "data": {
      "text/plain": [
       "\"['spirit fashionable segregation campaign organized supporters groups according race sex black women kamala white women kamala latinas kamala etc myfavorite categoryis white dudes kamala met online auspices rugged exemplar caucasian manhood pete buttigieg first speaker apparently black dude shouldnt make much latest thing', 'president harris bases covered spirit fashionable segregation campaign organized supporters groups according race sex black women kamala white women kamala latinas kamala etc myfavorite categoryis white dudes kamala met online auspices rugged exemplar caucasian manhood pete buttigieg first speaker apparently black dude shouldnt make', 'vice president harris bases covered spirit fashionable segregation campaign organized supporters groups according race sex black women kamala white women kamala latinas kamala etc myfavorite categoryis white dudes kamala met online auspices rugged exemplar caucasian manhood pete buttigieg first speaker apparently black dude']\""
      ]
     },
     "execution_count": 55,
     "metadata": {},
     "output_type": "execute_result"
    }
   ],
   "source": [
    "data_a[\"Representative_Docs\"].iloc[71]"
   ]
  },
  {
   "cell_type": "markdown",
   "id": "26465b9a-d7a7-4777-8c72-621e12663c3c",
   "metadata": {},
   "source": [
    "3."
   ]
  },
  {
   "cell_type": "code",
   "execution_count": 56,
   "id": "3339dd0a-c06b-4cff-bc84-07d1a054578b",
   "metadata": {},
   "outputs": [
    {
     "data": {
      "text/plain": [
       "\"['includes fully forgivable loans black entrepreneurs regulatory framework cryptocurrency legalizing recreational marijuana among measures kamala harris accused plagiarizing book smart crime vice president kamala harris addressed concerns waning support black male voters new interview shade room host justin carteryoutube shade roomscreenshot kamala harris senate democrats struggling black voters black', 'amid concern harris campaign unveiled week opportunity agenda black men plan includes fully forgivable loans black entrepreneurs regulatory framework cryptocurrency legalizing recreational marijuana among measures kamala harris accused plagiarizing book smart crime vice president kamala harris addressed concerns waning support black male voters new interview shade room host justin', 'concern harris campaign unveiled week opportunity agenda black men plan includes fully forgivable loans black entrepreneurs regulatory framework cryptocurrency legalizing recreational marijuana among measures kamala harris accused plagiarizing book smart crime vice president kamala harris addressed concerns waning support black male voters new interview shade room host justin carteryoutube']\""
      ]
     },
     "execution_count": 56,
     "metadata": {},
     "output_type": "execute_result"
    }
   ],
   "source": [
    "data_a[\"Representative_Docs\"].iloc[73]"
   ]
  },
  {
   "cell_type": "markdown",
   "id": "50a3f9c5-f1a4-499e-ae37-eaf51afd814e",
   "metadata": {},
   "source": [
    "4."
   ]
  },
  {
   "cell_type": "code",
   "execution_count": 59,
   "id": "ab98da47-f457-43b0-8fae-419c568e823a",
   "metadata": {},
   "outputs": [
    {
     "data": {
      "text/plain": [
       "\"['women different story comes pulling lever republicans november primarily due name top democratic ticket thinks selection kamala harris less confident black women versus president trump quite frankly specific demographic bases voting predicated identity kamala harris black woman thats tough demographic', 'democratic ticket thinks selection kamala harris less confident black women versus president trump quite frankly specific demographic bases voting predicated identity kamala harris black woman thats tough demographic us get hunt said however believe president trump highest black male vote history republican', 'democratic ticket thinks selection kamala harris less confident black women versus president trump quite frankly specific demographic bases voting predicated identity kamala harris black woman thats tough demographic us get hunt said however believe president trump highest black male vote history republican president']\""
      ]
     },
     "execution_count": 59,
     "metadata": {},
     "output_type": "execute_result"
    }
   ],
   "source": [
    "data_a[\"Representative_Docs\"].iloc[166]"
   ]
  },
  {
   "cell_type": "markdown",
   "id": "de53c40f-b805-49b2-b2d9-f32ca3314d2f",
   "metadata": {},
   "source": [
    "5."
   ]
  },
  {
   "cell_type": "code",
   "execution_count": 60,
   "id": "f3d364a6-3226-4c25-b254-fe32c402234a",
   "metadata": {},
   "outputs": [
    {
     "data": {
      "text/plain": [
       "\"['news ed okeefe kamala harris support among black men state group michigan community leaders told cbs news ed okeefe black men want vote vice president kamala harris citing frustrations harris candidacy would make difference lives vice president harris used radio interview defend accusations shes outreach political', 'ed okeefe kamala harris support among black men state group michigan community leaders told cbs news ed okeefe black men want vote vice president kamala harris citing frustrations harris candidacy would make difference lives vice president harris used radio interview defend accusations shes outreach political timing', 'support among black men state group michigan community leaders told cbs news ed okeefe black men want vote vice president kamala harris citing frustrations harris candidacy would make difference lives vice president harris used radio interview defend accusations shes outreach political timing community leaders spoke']\""
      ]
     },
     "execution_count": 60,
     "metadata": {},
     "output_type": "execute_result"
    }
   ],
   "source": [
    "data_a[\"Representative_Docs\"].iloc[173]"
   ]
  },
  {
   "cell_type": "markdown",
   "id": "ca36cb07-0326-4209-adf6-b42a0a7ce360",
   "metadata": {},
   "source": [
    "6."
   ]
  },
  {
   "cell_type": "code",
   "execution_count": 62,
   "id": "1227b508-f1bd-43bf-9bcd-388a2db148c0",
   "metadata": {},
   "outputs": [
    {
     "data": {
      "text/plain": [
       "\"['months aoc claimed harris likely lost votes deeply ingrained sexism america never elected female president transcends ideology party affiliation kamala harris tom harris may different result today said grudging compliment former waitress even said trump got peoples attention vowing cut taxes tips social security', 'campaign months aoc claimed harris likely lost votes deeply ingrained sexism america never elected female president transcends ideology party affiliation kamala harris tom harris may different result today said grudging compliment former waitress even said trump got peoples attention vowing cut taxes tips social', 'press blaming racism sexism wound writing nearsweep battleground states fox news projects donald trump defeats kamala harris become th president united states harris best could shortened campaign overwhelmingly favorable celebrityfueled media coverage compared constant attacks opponent however incumbent change election many journalists']\""
      ]
     },
     "execution_count": 62,
     "metadata": {},
     "output_type": "execute_result"
    }
   ],
   "source": [
    "data_a[\"Representative_Docs\"].iloc[154]"
   ]
  },
  {
   "cell_type": "markdown",
   "id": "8462f669-c13c-4363-a740-823e4ff21bac",
   "metadata": {},
   "source": [
    "Первая тема идентична Теме 2, что была описана нами в ходе анализа H1. Отсюда мы выделили конструирование про-республиканскими СМИ образа афрроамериканок как оппозиционной республиканскому кандидату группы, а также формирование \"другого\"\n",
    "Вторая тема: здесь присутствует критика Камалы Харрис за организацию кампании в поддержку расово-гендерных групп (\"campaign organized supporters groups according race sex black women kamala\"), также, используется саркастическое выражение \"myfavorite categoryis white dudes kamala\" (пер. \"моя любимая группа - это белые парни, Камала\"). Тон высказывания негативный, критика хоть и направлена на стратегию кампании кандидата, однако это высказывание обесценивает работу кампании Харрис с интерсекциональными группами. Здесь нет явного использования стереотипов, но такого рода высказывания также могут формировать враждебное отношение к интерсекциональным группам, обесценивая их проблемы.\n",
    "Третья тема: в кодах тем содержится обвинение Камалы Харрис в плагиате книги \"Smart Crime\" (\"kamala harris accused plagiarizing book smart crime\"), - тон сообщения негативный, указывает на ее некомпетентность как политического кандидата. Явных расово-гендерных стереотипов не наблюдается.\n",
    "Четвертая тема: указывает на группу чернокожих женщин как основную аудиторию, поддерживающую Камалу Харрис (\"voting predicated identity kamala harris black woman\"). Здесь, как и в первой теме, чернокожих женщин формируют в качестве \"другого\", оппозиционного республиканскому лидеру.\n",
    "Пятая тема: упоминается фрустрация чернокожих мужчин-избирателей кандидатурой Камалы Харрис (\"black men want vote vice president kamala harris citing frustrations harris candidacy\"). Тема не содержит явных расово-гендерных стереотипов, присутствует критика кампании Харрис.\n",
    "Шестая тема соответствует Теме 5 из предыдущего анализа гипотезы. Она является случаем воспроизводства стереотипа Mammy."
   ]
  }
 ],
 "metadata": {
  "kernelspec": {
   "display_name": "Python 3 (ipykernel)",
   "language": "python",
   "name": "python3"
  },
  "language_info": {
   "codemirror_mode": {
    "name": "ipython",
    "version": 3
   },
   "file_extension": ".py",
   "mimetype": "text/x-python",
   "name": "python",
   "nbconvert_exporter": "python",
   "pygments_lexer": "ipython3",
   "version": "3.11.5"
  }
 },
 "nbformat": 4,
 "nbformat_minor": 5
}
